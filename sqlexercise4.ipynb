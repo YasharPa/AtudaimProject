{
  "nbformat": 4,
  "nbformat_minor": 0,
  "metadata": {
    "colab": {
      "provenance": [],
      "collapsed_sections": [
        "FpqfU2kSPnqm"
      ],
      "include_colab_link": true
    },
    "kernelspec": {
      "name": "python3",
      "display_name": "Python 3"
    },
    "language_info": {
      "name": "python"
    }
  },
  "cells": [
    {
      "cell_type": "markdown",
      "metadata": {
        "id": "view-in-github",
        "colab_type": "text"
      },
      "source": [
        "<a href=\"https://colab.research.google.com/github/YasharPa/AtudaimProject/blob/main/sqlexercise4.ipynb\" target=\"_parent\"><img src=\"https://colab.research.google.com/assets/colab-badge.svg\" alt=\"Open In Colab\"/></a>"
      ]
    },
    {
      "cell_type": "markdown",
      "source": [
        "<div dir=rtl align=center>\n",
        "\n",
        "# <div dir=\"rtl\"><font color='BLUE'><b>התנסו בכתיבת שאילתות SQL פשוטות\n",
        "</b></font>\n",
        "</div>"
      ],
      "metadata": {
        "id": "fuTgXyGrCUSo"
      }
    },
    {
      "cell_type": "markdown",
      "source": [
        "<div dir=\"rtl\" align=\"center\">\n",
        "<b><font color=\"Grey\">\n",
        "<font color='#141C3A'>\n",
        " כתיבת פקודות SQL:\n",
        "</div>"
      ],
      "metadata": {
        "id": "Qxntv0sAVOgh"
      }
    },
    {
      "cell_type": "markdown",
      "source": [
        "<div dir=\"rtl\">\n",
        "<font color=\"Grey\">\n",
        "מומלץ לשמור עותק של סביבת הקולאב במחשב שלכם, מכיוון שהזיכרון של הקונסולה האינטראקטיבית מתאפס כשמרעננים את עמוד האינטרנט בדפדפן.\n",
        "<br>\n",
        "בהצלחה!\n",
        "</font>\n",
        "</div>\n",
        "<hr>"
      ],
      "metadata": {
        "id": "sXmUbNeOVWqK"
      }
    },
    {
      "cell_type": "markdown",
      "source": [
        "<div dir=rtl align=right>\n",
        "\n",
        "## <div dir=\"rtl\"><font color='BLUE'><b>חשוב להדגיש</b></font></div>\n",
        "בעולם האמיתי, מידע של ארגונים מאוחסן במערכות RDBMS המוקמות על שרת מרוחק,\n",
        "ועל מנת להריץ שאילתות SQL נצטרך להתחבר אל המערכת היושבת בשרת המרוחק.\n",
        "למטרות למידה ותרגול, נשתמש בפתרון קל יותר, בעזרת ספריית SQLite נוכל להקים מסד נתונים מקומי בצורה מהירה ונוחה,\n",
        "ולהריץ שאילתות SQL עליו באופן שדומה לעבודה עם מערכת RDBMS מלאה.\n",
        "\n",
        "קיימות שיטות שונות להרצת שאילתות SQL בסביבת Google Colab (פלטפורמה מקוונת של גוגל לכתיבה והרצה של קוד בצורה אינטראקטיבית).\n",
        "אנחנו נבחר להשתמש בספרייה בשם ipython-sql.\n",
        "Ipython-sql הוא הרחבה ל-IPython, הוא מספק סביבת עבודה המאפשרת להריץ שאילתות SQL ישירות מתוך הסביבה (ללא שימוש בAPI שעוטף את הבקשות).\n",
        "לאחר שטוענים את התוסף באמצעות הפקודה ```load_ext sql%```, ניתן להריץ שאילתות SQL ישירות מתוך סביבת העבודה.\n",
        "\n",
        "2 יתרונות נוספים לשימוש בתוסף, התוסף מאפשר הדגשת תחביר והשלמת קוד SQL באופן אוטומטי.\n",
        "דבר שהופך את חווית הכתיבה לנוחה וידידותית יותר.\n",
        "\n",
        "</div>"
      ],
      "metadata": {
        "id": "FMUcLOGU0TH8"
      }
    },
    {
      "cell_type": "markdown",
      "source": [
        "<div dir=rtl align=right>\n",
        "\n",
        "## <div dir=\"rtl\"><font color='BLUE'><b>לפני הרצת שאילתות</b></font></div>\n",
        "\n",
        "\n",
        "פשוט הריצו את הקטע הבא:\n",
        "הכולל את התקנת הספרייה וטעינת התוסף sql\n",
        "</div>"
      ],
      "metadata": {
        "id": "d0PeLlxsxQ2m"
      }
    },
    {
      "cell_type": "markdown",
      "source": [
        "## Connetion"
      ],
      "metadata": {
        "id": "FpqfU2kSPnqm"
      }
    },
    {
      "cell_type": "code",
      "source": [
        "!pip install sqlalchemy==1.4\n",
        "!pip install ipython-sql\n",
        "# load sql extention in order to use it above.\n",
        "%load_ext sql\n",
        "# change the design of the table result\n",
        "%config SqlMagic.autopandas = True"
      ],
      "metadata": {
        "id": "jQ1zWKyyMN9o"
      },
      "execution_count": null,
      "outputs": []
    },
    {
      "cell_type": "markdown",
      "source": [
        "<div dir=rtl align=right>\n",
        "\n",
        "## <div dir=\"rtl\"><font color='BLUE'><b>טעינת הדאטה</b></font></div>\n",
        "\n",
        "</div>\n"
      ],
      "metadata": {
        "id": "xRKKc9dtiDVy"
      }
    },
    {
      "cell_type": "markdown",
      "source": [
        "<div dir=rtl align=right>\n",
        "\n",
        "הריצו את הפקודה הבאה:\n",
        "\n",
        "``` \"wget -O employees.sqlite3 \"https://drive.google.com/uc?export=download&id=1ThJIPMRMlXOedWG2JIse0fod1wxc6XGu! ```\n",
        "\n",
        "הפקודה תבצע הורדה של קובץ ה-DB של employees.sqlite3 ישירות ל-files שלכם."
      ],
      "metadata": {
        "id": "wcM540wxdTNb"
      }
    },
    {
      "cell_type": "markdown",
      "source": [
        "<div dir=rtl align=center>\n",
        "\n",
        "![image.png](data:image/png;base64,iVBORw0KGgoAAAANSUhEUgAAAQAAAAHBCAYAAACGxmV3AAAgAElEQVR4nOydd3gUVReH35kt2U1vhNBraIHQew0goChFuqBUaX4ogiLYUAQEQaQjWBApgvSAdEF6C4TQW+id9LZ97/fHJoFAgARCzbzPs0+yM3fmnpmd+5t7bjlXEkIIFBQUciTy8zZAQUHh+aEIgIJCDkYRAAWFHIwiAAoKORhFABQUcjCKACgo5GAUAVBQyCJCCMxm8/M2I1tQP28DnjnCxtWry8jnJIOQwG4Cn2ag8Xrelim8JCQnJ3Ps2DEqVqyIRqN53uY8ETmuBjD37G5G7p4FVybBpfFwcQxErnz0gVHbebe6D67OLuiLNWXdjczneW7paIYsOQlA3L5Z9OvVmU6dO9GpSyc6dWrLWwNHE3rt2b1RDGHTaFyhE3sSs/OsZi5dvIYlo1320/Rr2ITv/7uUnRnex5UN0/jo991PNQ+AmJgYDh8+THx8/FPP62mT4wSg99Yp/B7jweZ4Hag0oPaAy5PBlvzgg86vpEyx1mi7ruRKbBRHf6rEm3mcmXkkc3lGHvyVH4/dBMB48Td+DtPSok1bWjR9kzdfb0HrWlXJrVNlw9VlDtlu4YYdrPbsOmMCs7rko1DhlhzOcL9AmG8izE930Gn88b+ZfOD0U80D4MSJEwQEBHDkSCYfgBeYHOUCDNk9G4vNhCTrGXzJhbCySSBpHJ8L30Gx7zM87sSmFVxvMJDf+tcBwLPF95zeWJobbsmAc1o6YYwn1qzFy12X7niVxhkXdUoBFzJu5V6n09tt7snFjp1HK3JyXAwmtSteLhlXPY1xkVj0vrhpUzZY4oiKB28fD6SUTU6VB3L0npIqkiKJsrri65HedgCrIZ54k8Db0yPDPM8uns6ScFeQC6DNKIFckp93hGeww8LtyCR8fD0f401k5HaMmVxe7ney0ehQ6fQA2ExxxCU74e11//VkKRejEbPZjMViwWQykZiYiMlkIjg4mJCQEM6fP49Op0Or1aLRaHBycsLJyemJ8nyWZFsNQFiSsF9dge3aSuyGKzxK64U5GnvkDmxXl2GPOfjI9E/K2bhr/H1uJ06yBrvNgLt3DfBpCrYkkJ0gdg8kZqzoPkULYdu2gh13VRKKNn6PWoVTC7+Juf2q46z3wNvDhcA2I1g6/m0a/JHx+USGVyuz6otmtJly55hdP/akWd9fHF+SjzMouBAunt54u2rJ99owbqakO/nbu9SZuZIpLfOj98zF1FArINj07Vu4OXni6+uJLBVg1I5oxwExW6hWfRCnAIjjh+ZFkV1zkctTT64q3TmQdp2JTOpQFo2zBz5enuSv0pedt++9mOP8MHkOH4/5AR83FRlXKkyMH1KX6XvjgVsMHdyCaX9MpUFuN/xyeaGSAvluSwwA20e2puMv+9MdfWrB17zb9zfMxPPloDeZ9OtPlM3ljp+3B6pCb7LhqiOdJKnRuiaxpn9dnHWe+HjrCXpzHJefoKYTFxfHxo0b2blzJ2fPnuXq1auUK1cOtVpN2bJluXDhAmfOnGHbtm1s2bKFxMRs9auePuIJsCddEdawAcK0VCuMfyCMc1M+fyKMcxCmLfWEPemCsNttjvRWg7CeHCtMi7iTfl7K3z8QxsWysF1f9yQmPZA260cLZrwlnH9pK/z/eE9cSIx07Dj0lhD7awmxr7oQx3sKYUvO8PjwWX2EDkSx4B5i2rJt4qbhzr4l7xcVrvV+FLdTvt9c/7nwB6EdFSqEECJ0eKBwG7ndsW9pPaGp96FYvWm9CFm5QixbukJs3R8hLEIIEbddtCtfSMzcZxHW07NEiYKVRMgVIYS4JQbVLCLafx+alufOEZWFc9NpQgghjvxUVwBi0D830/Yv+7SG8KrRP80mceYXUdYzWKxJEEJELxeyqpU4LoQ4M6GM4O2f047bO7236PfbISGEEH92KCZK9Q5J23d69jsiV8Wu4qrpzrXPfLuECP7tlhDiX+GqbynCMrx7BjGgrbP4fGO0EOK26OqLILC3OGlP2X1ugSiNixhzTAhx43fhQXWxJXWfSBAD6hcQg9bcFELEim5+CKd6Q0Rsyt6tn1UTVP/ecYl/dBCA6LjwclrOv71XXhRpNkLcytCuzBEbGyuWLFkiTp8+neH+w4cPixUrVgiDwZDh/heZx64B2G+swbKlBtZjUxBWM5ILSLqUj97xEde2YVlXEhF/BJF0EevWYKwHPkPAnfROKX9dAJsd65ZmWPZ1BvPNR5mQabZcPcLqiwdwVesRCPoGNaKQi49jZ8EuoDKDygrJoRC7JsNzBL3/M4mX9zG4rguLhreh6mt9CI0D2MFPf8r8sWQQvilp/ZqMZEbHQjgJ633nkVUaLOf3suzvxSxbtoylS5azdd9FjADudfju47bM+uY9enScQbMxq3grHyQf/J3V51xpU9eVo2EHOXjoBAUa9SHP+jGsNoCT3YRz57/48Q0/RybJ4cxbH8UPv05Ks4nivdhxfCmNXAG7hFbrcElyFaoGR5eyZM8ZEoFq/WYyvUd5uLmEbxbJ/K9LECfDD3Iw7CiUbI3/6Z3MP+qoIlz7uwdTb3RldY9cEJv8kFqchEqtRS3LgAVTQW9GTB5LyVSfpEgnFk8MYsLQ+ZC7OxObnmHU9PMAiBNz+PdMdXo08QOMmIr68MWYr0l1Rur17oLL3ptEAZIpAVX90fzVIX9azj0mTSPv5TWsOfH4b2YPDw8aNmzIqVOnOHnyZLp9YWFhXLlyhcaNG6PTPZm78Tx4rDaA5P2LkK+MQzZfQUpx+oQd0p4AKeWjAlyKAiqs2xpijz2HpHHsEyIlvbiTXlIBMtiu/EPC3rN4D9j7JNeWxoc7Z2G129CoZVw1OvIkNmX1QTDZBXoaUNAWh5YEhBBEH7pKzYYZn0eVvyr9vq1Kv2/HMqFdBT74ZBN7xyewU67N3Fx3p5QoHuSKlEGF2GZOwq3RYH6b2S7DPEp2/ZIWk/Iz3PYdolNeAAzXozh98wpjP+sKRjMCCVmyIgfoibkJ2G1IJXOnncOSdAHVTT/KFUz/83rkSd/VaQU83p7Fjviv+aR7Ld6NiCTwnUms/+NDfKKvcI44/vi8Pb8bLAhAJUO0y02S49QQu4suv8Uz9b/PHa0gnj5oNC53BOeBCGz+nvjkdU+3NbBGG5KnHuM28N6ogfz49ghufzCbw5OHo+q3iUAVgA3hocPF7a6WBqsAWY0KwGKFmgHps/MsQiFnb85fT4bSro+07kF4eXmRN2/e+6r4iYmJFClSBBcXl8c+9/MkywJguXyA+NkdsZnAp2VVZFsowiiQXLxBm8tRik03EYYosIKm2nys+95xFP6U3IQVJI0G9PmQNO4IUxQYroINhFNeEo+7Y47YR/TkRnh/+O8TX+To6u/Rcu1I7Kpk/C51Y/ZhZ2zOSQghELhhl3phFxJGCwx5E2qmO9pO+PzJrNXWZmi7qinb9HR7twnfjJiPSfMR9VX7ORINRbzvHHUlIhlRVOI+BAhbhp1lABxb/C2rSjTn3ZPDGbCwE1M6+uPk6UWtKu+yesckMhqtEG4SYLOlfdfo/bDkiyTiso3qZe70LhijYxDeXuglh10SgMVMzW7fs7vb94CJ37qVpWx9E+eXBZJf05hl2+dTIIM8D85ayJXNq3nNRYXZIlCrBFYbFMh1ip9WrGZgbf8HXKGEHB1H9O1EKHVHBM6ErsU5/3u4AXLloTSpHMD4KeMJWVqLhbcq3DncLrDbH+DUq9WIoxfSb0u4xLXYRBr5OWd8TCYRQhAXF0dAQAD79u3jxIkTVKxYEX9/fyIjI5/o3M+TLLsAiSuGISRQuemJ3XICS1JBVIVboW6wFW2zk2ibHkPdYBuqEh+gKvsRIjEC++0jdwq/DWSvUqhrr0LT5DCa18LRNNqPusrP4BFE4nEnLNcikN2csFzYg+nEuie+yDcLVaF5kQpIyXnxjKqASpOEs9qGi5OEq5MNd20SzqpEahVLpn2Vex8uGTnpGN90787CY0mOTaZLTJgWQlD993ByrkC/VkkM+mAaN1NqQJfXjWPY7+cR6vvbxCVZhbDGY8BMfFwssbExRMcmYAOI3M0X3+7h/U8X8uffM9g+vBPLL4Fr7U5U0Kygx+g79+Lsov689uFCRwXqXp1xrUnb4NyM++IbLqRcjjHib1q8NYRwEym/uoQauPT3YBq+/6fDBcGJN1s0Qh93FqPPG4xqsJ7mvRcQl3LaqxvG0L7vKK5ZoVL3sey9dZ2bt6OISUjGcnYRbi4t+O9MKB/V8gfDSSYN+pJ/jsYAKu6YqMH5UhQ/Dvue4ym303xxOb2+2k7nkR3RpaR5v303/vnwU+SPP6d8Jn9nWeeCWD2cIcvOpWwRLBgxhIhi1Xn9Cd7+AAaDgaSkJPbt24fNZqNRo0bExsYSHh5OfHw8FsuDRf1FJssCYAjfiKTVIUkgjIlYRT3UNZcju5e9c1L3MqgrTkVdfiLWw584XAHJ4SZIHkVQ1QpB9m+KpHYDQNLnQS7SB039zRgjziOpVSDJ2I3JmI6sfuKLlJDoUCQY59OtsUoydklC2O3pCo5WLdGykhpX3f23pFzv6Wyd3IRB5V3Ru7sj6wqx1rMfc8cFA9Bhynpa3BpFQY0WV3cPmv5yg04dCuAkOdoATPG3SEhwFDG7MJH0Vz+cZR0enl54eXnjU6sjW2Ii+aFlLa42+5KelSUo0Zlv3jTwYfehmCnMhNmzcFvWGa2zGx56ZwI+PUK3nk2QAGP8LZLiDels7vzdbHr5rKGIVo+Xux63kgMp2u9/1HACTMkYDVEkAQVb9KDQ7n7o1Y4uQP++B/hyzjQ8gfeWbadxxJfk1+lwd3WlRMe/qfjGm+RVAxo9Xl5eeHp44umqAzc1CUmxuHimCJL5ImN/GsW8cEdbTlxMLHFGC2DFEpSL1g2sdK3oiauLM06FO5P7yy1MqH1HMEs1CUZfshJDOtz19sdKVNRNEkx3ajuYEkiyx2IBjLevINr0xD+kA+4eLrg4yfTakJdfp35PniccZpGQkIDVaqVmzZrUrFmT/PnzU69ePapVq0ZiYiJGo/HJMnhOSEJkPiSYYfdsYuf0QNbrEXYrKs/8+Hy6D9k1Y89PWJIxL3RB0qU0D0gS6lrLUOVt9cA8krdOIe6vD5GdnREWI5p8QXj2X4vK/UFVyheTE6PLUUOaSdywWs/blBcLcZH2bwTTcNo5+hZ9cLIjCz9iyCZ/Vvw6jBehV91qtaJWP9hjftT+F5Us1QCs0edIq8vZbchuuR9Y+AFIOH4nBwGSky+SZ+WH5qEp2djhJwsBsgpbUjTCnJQVM18IkowmzHYl3OL9CGxWE4bEhw19TuCveRso/1bXF6LwA48s3C9j4YesugBCviMACNC5PTz9vc6prEF6xKQbWe+JdLdVwpbSZfByITkVJEDOoBEwp2MX+OgK4cX9XaSp2Pb/zlZLPbo2zfsMDcuZZEm21D6FSOvZklSImMsIuw1JfoCD5VKMdJ3D5ljssWGoctV9YB6WS6GOhkJJQgg7KhdfJO2TteA+Dyp/sekB4+JzOKoizFq16+FJqn7EzvXPyJ4cTpZqANoSwYjUmpusxhZ9AcPuOQ9ML2k9Qet4gUsSCHMy9ou/PTSPhJChSCkTY4TNhpwrANnt5fL/FRReFrIkACqfIsiezgi7FUmSsBmMmA5OheQL96UVxptgikQu0s0x4kQCSQZxdQPGsD8zPH/ixh+wXj4OKi1C2EGS0BathSTnuEmLCgrPhCz1AgAYDi4kdmYnUKnRFS+Ia+kE7Ddvowp8DzlvC5CdsV9div3sbwgJnFpHYgrxRbKD0PiTcMoN08kz6MpUQVezB5p8FbGc3UbSjp+x3TiP5KJHkiSExYjaLwDfz4+C6uVsYFFQeNHJsgBgNRM9vTn2+HA8qmoQcdccffxW7rQPyDhaFyygCvocyckb29ERJJ7KjenqRWS1CmE1ISx2sDnSSho1kkoDkoSw2xBJJrw/WoVT2Tez94oVFBTSyLoAALa4W9j2t0Fc3wFOKY399zZ4i5T5AWoV2oZbSNq7lrgF36PyVINKg3Tf8DUc1X6rCbtR4Pb2t7i9/vXjXZWCgkKmeCwBSMV6bDj2E6MQZpvjrZ82RiDl5FoNcuGuqMqNQ9J6kvTvjyRtnoA99lrKBKA7vn3qyDxVnnK4t5mAU6nGj39VCgoKmeKJBADAHrkd+5WliOTzYLjmCK7hUhhJnx85T3Nk3/RdfrboixgPLcN0fC3ClJjSMihQeeZFW7w++lq9kDQv37RKBYWXkScWgFSE3QLWJEeB1rjf5xHcl96UhLCZU/oHBZKTG9JTb+wzcPVsHHmK+xO35gP6xw7kr3cCHn1YNnBy9Xcsch3A8AbOXDkbTe7i/mR/PNkkrt4wkC+37/0umcJjY4++wk11fvK4Pzrti8N1xrX6jMYL/qTiQ4bRZFv/miRrkLSeSJko/ACSkwuysxey3hPZ2SvbC//oehLeRStSqWIFAkuVoNWgCcRbbvHLF6M5AYioE4TfeEgg0Cww4TU1nkUqOPIqXZIW/xvBpXsmh5mizxERK4BL/Pr5CE4DhsWNyD96f0anfDBJEfR5uw7zD989+eQ0XfKXZsnRG0wd/TvHjU9/5OTVLeNoM2Ak8bZHp30cVn7Vm/4zjmXxqBhGFvDFp1QlKgYFUrne24xfcughYw4fkn+vvAzd4/g/YsvnfLXy1GOc5TEw7aJlgaIEVQ0in5Oa/IFVKVeiCO2nZjU2hpkLYUdIeEQ4tFe2f829SHl+XhhG+3SjSa9Tu0U7CgJmWYNGlap/t1k0bSoHonxo2aMPtfNnbQS6a4FApv5+iC73Tpw3nGP2pF+46N2QKpITOrUEeFG/3TvIx/by04LrkPgbS8p70bp5cTI1Yc2lKC2qVGbLjv10Dkpxr/b+yb4Gw5lX1hd96/oUdHJIsOXCHn76YwWWfLV4v2sL/AzH+WdVEsFdquJsu8b25bsp3boNvrKBrZsW4V+lKyW9Mld1UDu54uWuQauCqwcOECVUnNyziuOm4nTu2YEATxnM0Wz66xc2nTRTt31fmld0RE2xxZ5h3i/zOWkuQM+BPSnuYmDvL9uxlU7gSFRBmnlt48+dJ7ihHcM/TWbRvJg+UzaBjM7Xj9/3HaSlBrCcoXebniyptI03YmZxIFdvggsCySdYtvA2zXrU5sSv/6ILduXfeSEklWjLsE5VOLpmNouPyFyaM5E9+T4gsFRz3tQWAyLZMOs8vpXPsGbxUfyDe9GroZ3Z43/lrBTIh0PfJTUsS9iSKfx94DoBr/enR738Dzb5XpxqsfKyYzrznOqlcNqyn45pb3DBsbW/snBLBMXe7Em3egFp24+v+5W//j3r2F6/BCCh1mpIHY1+efOv/L7xLNrizRjWs8FddywnIU4x84s5XAZUEjiCFCQzt+dIoku2pHNtdyYNnkj2RK+3Mb9PZ474NKZNZSdW/b0TrU4HnOGXobOJKVyN+lVy41q6BnUq5cnCDyFRJziAQxf2prS12lj38wHa9WwJ0Yf48Zcl3BLAtW0M+WUt1d7sTEXrVsb8FoIZC7vXTuCKHbj4L+8Nnsj+W4D1LJtmrSVRnVW/QUIFXNs/k/eH/IZH9TcJSNrI5ClLAVg7YwyrbhWlY+vahEzsx+9h8UAsv438FGv5Nrxd0cqMwT8QjZrNYwbw1epblCpeGP9SjahWogCFyzekXL7MFv4UhMCYGrRHE0CNau6cv2nl6vafWH8+ZXviURZM+5ckYOv4Dxn41y0atHoL04r3GRlqoGzNulQs7EyJasGULaDh0vqv+WFHHBDDsh+68deFErRoEcTuL7rT6aMl5A3uSFWxml5fOaoMN0P6MyGiJN07v0XUvPbMfqzKQxKJFiuJMXe2HF36Hd9uMPBG+/Zc+2sIw2Y7QqAfX/4dw9cl80aHjlxfOIShv0cATo52dg1wbh7vTrlCwy5dKRXxPY0n3xmk/soKgD32CoMbVqJS+XKUqN6QsXtNIDmhd9GlvWnVWicI/50F7i7U9ndGW7gCDUwzmB+atbxE4i0+a1yJShWCKFWhJp+vvApXZ/Nt7AAmvN+IcpXr8UGP6hgMFkCNk06Lp4tEpUBvnIoE4Z/HJUsuu0fNNtQ4dJzVt4DoXUxOrEq3YD1YJPR6PXqV4N85/4CmLD5uWkqUrcz2/8K4ri2JfxUv9p+Dq6HrKNe8HcaDESSfD+eWb3cqPWJu14Ow2kvSpVs/mlatSOeurTgVt5dYC0RZYnEvWISASsHMnD6bNqXdSd46nqnXW1C1mBrXvJWx6Hax+vJVPLyrMnZMP+oH5sLJrwJlC/mTr2R1CmapPVhCliRO7D7B4UPhbF86hjX7itG+phpkJ5xSf3hZjd5Zi4xAqw9ixJetCCpfm2G9GhCyIhy8ilMmjxOFypbHFZDUzjhrZMCK1qkTg9pUIahWR4b1iuNG7V40rVGBVp/0wn3NaqI5zWcDjbRtVwSL5EOzOpUYO3PL493YdCSw6LdV9P/2Q2pWqcTn3wwm6dh0rmJm6a8hfDDiI2pWqciwbz8j+fgUriFQy5KjhN8+RXThQEoXLkrr0WuY91ZeUj23V9YFkD3z8+Pmg/e4AOkdVkmykZxoweXSGRb/vdAxAKnce7QolLW8JFc/xm46mN4F2HEFbdCdHhC7RUoXDtwOWCw2hPVxIsnk4b2WSQzfeoE6rnspUrEUAQAp049VdjvR3Obg6W14LjyCxWLj9eA65NXrqOBWhtOnd7FlU0E+/V8ZDp68xLmDG3FuO+3x2w2FHdnmmCRiM5oRNhU2Gdp1eI9pf67ih9HLcPEtT9f+HTBH3iY5LoaQ+RcxGi14FH+H+gV0rLC6YLrrlFarDZs166slSRKEbVqBzv0cf00M54fL+ygGhNtEBg2jdux4pK1mlGy0oFU7nhGrTZDRTyMwpbUpWMwSsj3lmUo2IXR6nJLjOJY3ltwLF3Ag2YwFH75pWzLL13E/1zCeqUS+1IZIlTO3VZBgOY/xbJU722U9USpBgtXsGFFrBqoPZfju7xj34zG08WaafDaa1Nk1r6wACLuVxFjgITNKhZBwdhLcKN6EJSPef/zM7HaM94YsyOOP6fCdyMayRiDd8wTareYMw4ZlhhJd3iGp5WJmv5NMYLU66c8ry7jaXKn3xv8Y3qVE+uMC3di9fCTLfEewO8iHdRvXsGLvZZrPerKQWXcjSRI2syBeFcigL+qA4Rq/DRvF3GW1ed/Lh3yFmvLl1/XvOiISsy19a5XNZgN1VqMBCGx2wXvfDaONCzR0bsXYpZdo2q0gdouRtG4XZ+e7Hnz7ncC0Dusd+VtsaLKcvR2bsysFIp3p8/lwHhLv5DHIiy7gIFfjIcAdsCbgbbXipimKrngoV1K32xLxtNpwUzshhEBWQdKV2zQdOIY2WInbPpYWneaxblMX9LzCLoDZkIT53hZqYcWQZMQG2M3JxCcaoUp32lxYTf/pGzm6fwNftP+I1PUzMp1XUizH9oYSfmAvu3ftZP/Rc1CsDyO8pjDol80c3buWcT//5wh1hhVjkhEL4Fn+LVT71xB+/nbGa+o9DI+W9Cg6llF/RvF6/YKObXYrBoMRg13i9S6vc3rlV/y+YR97lk+k1/d/EivAL6gSe/85wOuvlwaK0DZhKT/dbE9jz6xlb7eZMZrMCMBqNmNOudnCZiHZZEItS6yY3pX/TVlN+PELXBBWXHx1eDT8H8FXvuTbOZsJ3b6MkcM+5YgATMZ0rfXFSxTGEBpC6PWs3Bk7pqREUpfsqzZkKsXndWTpOShbvxfrJ4xha9ghFn/3I3tRIWPHnGTEKlJvn5Fkk6PWEVgjP1uXrCTKBHabAYPFDtgwJpvSRrzbzEkkm1O+2S0YEhKIozQTP7fwTs8pbD8Yxspx7/HJP48TNFRgTk7CnKaLbnTo0YJfR0xl38GDjB/9C3nLDiAfGtr0bMlv305jz8GD/Dh6BnkCPyYvNhITkrDJIJ34kXrdp7Ar/DQHj1/EuWoRUltWVN988803j2HdC49KraVQYFXy3B2tWZJRa3woUy0AF5UGfZ4gqub3pWa7RiTuXMbaA7eo2fdDmhTJ2ttQhZVzJ8I5dvI0p04c53KCREC5QGq+1YhrmxezIyo/3bq9QYH8xSnhrUGt8aJ0tRK45ipN4ci9hN/ypHy5/FkeF5A/IIjCpV+nbhlvx3tLklG7+FCuRBH03gG8WSUP2/9ZyfGkgvTt2Yl8zirQupDbszq1gwPw1sr45PfCt049KufPeNmvByHJKpy9C1CyaH5UKhVeBQuRL48rSCo0bv4ElSxGjbqNkE9uYPWOE1Ro9xHdaucF3KjbrCaXtv3DtlMJNOs9nCqeKiS1jkJVS6bF+/ctko+EiF1cditLpQKZbZyQUGucKVy1Grm1AO4ULuJNrMWN0tVep5xpF6u2R1Dk9U68XrwoxYMKotNoKFilFJ4SSLIa59wlqVjYA5+StYnd/i9JuSpQsrA7HvkqUz63FrXGnRLViqADJJUGj4JVqeCvdVy33o9SlYuQu3w7gow7+WfTfmyB3fiq1eONNVFp9BSsUp08KTURvzJ1KGo6xLI1OynQciADWpVEAnKVrksxyyGW/7ODfC0G8lHrAMCOSuNGQNXK+Aa8QSPdYVas2cI5r4bM+KxJWjtYtg0EUlBQePl4ZV0ABQWFR6MIgIJCDkYRAAWFHIwiAAoKORhFABQUcjCKACgo5GDUycnZMyVWQUHh5SA1HJ8QAvW9650rKCi82lgsFsxmM66urspAIAWFnIbRaCQhIYFcuXIpbQAKCjkNIQSp731FABQUcjCKACgo5GAUAVBQyMEoAqCgkINRBEBBIQejCICCQg5GEQAFhRyMIgAKCjkYRQAUFHIwr2xYcAWFZ8mNGzdITk5Om2jzKAoVKoQsP//3ryIACgpPyMaNG1m4cCFGo/G+fSqVCje39FGNhRB4eXkxatSoh57XbDazdoTfzMMAACAASURBVO1aWrZs+cA0S5YsoW3bto9nOIoAKCg8MUePHiUwMJA+ffpw9/R6lUpFXFwcgwcPTicCQgiuXbuGxWJBo3lwMPjFixczb948YmJi6Nat2337f/nlF5YuXYokSbRp0+axbFcEQEHhCVGpVOh0OlxcXHBxcUm3z8nJCaPRiE53Z5FDWZZRqx9d9Dp37kxcXBwrV65ECEH37t3T9s2cOZN169bRpk2bxy78oAiAgkK28KBZ9bIs07hxY5ydndO+x8fHExoa+sBj7qZ///7IssySJUtwc3Ojbdu2zJ8/n5CQEN5++2169uz5RHZnSgBsNhtXrlzB398fWZYxm80ZNnYIIZBlGb0+i0s6p2A4uYY5my9gs9iwAzaLIF/FJrRr5MzXvUZSuttoOtWx8NfMTRR5owM1CjzeunoKCs8KvV7PoEGD0m27evUq4eHhmRIAgL59++Lt7c3ixYtZu3YtSUlJ9OnThxYtWjyxfZkSgOvXr/Puu+8yYsQIEhIS2LBhA1rt/YXParVSrFgxPvzww8cyJj5sPJ98LdN7QG10ySYsZhnnYhYwRRN+7jwe1w3ADSZ9Mow6pVspAqDwUmIwGDJd+FNp3749mzdvJi4uDj8/v2wp/JBJAfD19WXo0KGUKVMGtVpNqVKlMuzCEEKk83WyjEpFwWKdGD+8x30DFFZu/AdUWuA6zm6u6NV31UAMtzl3PoF8ZYpy74KukRfPkazLR8HcWV3qVUHhxWHx4sXExMTg5ubGrVu3CAkJeXY1AJ1OxxtvvJH23dvb+4kzzhgJu91EIuAuBEIAkoQkXaONU3nybb7C5HopyxrKGsDGjPer8cU/Born1xF5I4YOkzbxfetimM4tp/Ub73HGqQzOhhvIZbvy99wRBLg8JHsFhReQn3/+mVWrVtG9e/e0NoCZM2dy+/btZ9MGEBcXx7x583jjjTeQJImLFy+iUqnuS2e32/Hw8KB8+fKPZYxKpSfq2p/07r4XjcFIst6Xtz/+kc5BWjx8fXDTpq1pilqvwbisD9+dacbxa6PwB8xhPxE8+CsOvLYA//0r2J+nOxFbJuOOiV0bt6O3WzN7yQoKWSKzA4CADMvOg5g+fTobN26kbdu2af39nTt3JjExkdWrV2O323n//fezbG8qmSoN8fHxLF68mHLlyhEbG/vQNoCAgIDHFgC73YKrZw269G+PW2wyZllH4QJOQPw9KWW02ih2hURgjdhFq5obMJsFsojjcJgLu4/H8b/6Xaj3fU/Kl9xHk/d68/mQHuTP6vrbCgqZwGazkZiYSFJSEo8Ks6/RaIiKisJisTyyHWD+/PmsWrWKDh063DcOoE+fPkiSxNKlS/H29n664wAKFCjAf//9l/Y9uxog7kXYLehcAmlWteY9hmVwo4SEzRhPwUF/s+fjwAzO9hpLD10i4cIhZk0cTIWivzJuaQi9qvk+FdsVci6BgYEsWrSI3r17Zyq9SqWiUKFCj2wva9euHTqd7oGFu3fv3nh6ej79cQB2u53r16/j5+f30JFL2YEQVoyA68Mtwmz2oVH/Btzq+jmLm82jXWk3Di6fzKITznzyeS8S14xi7E5Phn73AYN/mMzRTW9y4lIUKAKgkM00adKEsmXLYjQaszQX4FFotdpHFu727dtnKr8HkeluwAEDBjBo0CBiYmIe6gIUL16cAQMGPJYxluRIbt5KwHb/mYm5eRNnoxUwcfvGTaJikpCDxzOlZ3s+qFWML/3diU9W0fenFfgCuqIlufHlAKrNnYK7FIt7hb4saFLysexSUHgUefPmfd4mZIlUocrUwiBJSUksXLiQZs2aYbFYnlojoIKCwtPHYDAQExODr6+vsjKQgkJOw2Qyce7cOVQqldInpqCQ0xBCoNVqcXZ2ViICKSjkRDQaDa6urooAKCjkNIQQqFQqnJycFAFQUMiJyLKMRqNRBEBBISciSRKSJCkCoKCQE0kdB6AIgIJCDkQRAAUFBUUAFBRyMooAKCjkYBQBUFDIwSgCoKCQg1EEQEEhB6MIgIJCDualnQ1otVoJCwvj8uXLyLKcLhKL2WymTp065MmT5zlaqKDw4vPSCkBYWBjTpk3j8uXL94Vh0uv1hIaGMmzYMDw9PZ+ThTmP8+fPc+nSJerXr/+8TVHIJC+tAERFRXHp0iU2b958376JEyeyY8cOvv76az755BMKFiyY7fkvW7aMBQsWYDQa0xZJMRgMdO7cOcOVXJ8Wt2/fZvLkyYSFhaWN77bZbOTOnZshQ4ZQqlSpZ2bLtm3bCAkJwWg00rRpU6xWK6dOneLs2bNERkbi6elJgQIFKFiwILlz585SKG2Fp8NLKwAqlSrD1YnA4QLodDoiIyOZMGECX331FT4+Ptma/z///INer8fd3T1tmxCCTZs2YTKZyJs3L3a7Pd0+lUpFmTJlKFasWLbZce7cOU6dOkWuXLnuc4N+/vlnGjRogN1uT1u3UZZl7HY7np6e1KxZ88lWcrqHrl27otfr+euvv3B2dqZu3bqsW7eOTZs2pYmTWq3G09OTqlWr0qhRI0qXLp1t+StknZdWAB6G1WrFYrGg1Wq5cuUK48aN49NPP81WETCZTFitVuLi4tJtF0KwbNkybLb7Q5s6OTkREBDAxIkTs80Oq9WKEOK+t6lWqyU6OpoFCxbg5eWFWq0mNjYWk8mUtjy1yWSiWbNm2WYLQO3atdm0aRO//PIL7u7uDB48mAYNGpA3b15u377NsmXLOHz4MDt27CA8PJw+ffpQpUqVbLVBIfO8tAJw99v1XvLmzUtSUhJqtRqNRsPBgwdZuXIlPXr0yLb8jUYjbdu2pWPHjpk+5sCBAwwePDjbbIA70zozQghB/vz5mTBhAuBwUXr27IlWq8VkMnH27NlsteXmzZt8+umnqNWOx2r06NH07t2bRo0aYbfbcXNz45tvvmH+/PmsXbsWo9HIhAkT6N+/P3Xq1MlWWxQyx0srAA/jXh+8devWGYYxf1KMRmOW0sfExJCUlJTtdmSEEAKLxUKPHj1Yt24dzZo1Q6/X89Zbb7Fy5cq0WkB25jd58mQkSUpzz6pXr87cuXPRarXUrl2bRYsWUa1aNdq0acOxY8e4fPkyKpWK+fPnExQUlM6dUng2vHLjAP777z9MJlO6bS9K4OOGDRsSEhLyTPJKTk6mbt26lC1bFh8fHyIiIgAIDg4md+7cWK3WbM1v06ZNXLhwAa1Wm+aSfPDBB1SoUIEZM2Zw+PBhevbsyfbt29HpdBQoUAC73Y5arU5zVRSePa+UAIwfP56xY8cycuTIDH3wZ018fDwLFixg6NChDB06lHXr1rF69WpGjBjxVPO1Wq34+/unrRpToEABtm3bBoC/vz9t2rRBkqRsFUYnJ6d050z9W6RIEcxmMz/88ANbtmyhf//+AGkNk3fbrPDsyXId8OjRoxw7dgxwvE38/Pyy3aiskpSUxNy5c9m5cyf+/v4cPXqUn376id69ez/XauWoUaOIi4ujefPmqFQqtm3bxuXLl6lWrdpTy1MIgRCCBg0akCtXLsDRPffnn3/i6uqKt7c3FosFm82WrQJQr149tmzZwqlTp9BqtVitVs6dO0ezZs04fvw4e/fuZcaMGWg0GurUqYOHhwdCCKxWK15eXnTp0iXbbFHIPFmqAcybN4/Ro0dz4sQJwsPD+eSTT9i6devTsi3TXLt2jU2bNtGlSxfi4uLo2LEju3bt4ty5c8/NptOnT3Pjxg3GjBnDW2+9hRCC8+fPExUV9cgVZJ8EIQTOzs60bt0acIijLMvMnTuXqlWrEhAQQKVKlejXrx8GgyFb8+7fvz8qlSpNYBYuXIiTkxPDhg1j1qxZNG3alJkzZxIeHk6XLl0oX7488fHxdOzYURmw9ZzIdA1gyZIlrF+/Pp2vdv78eb744gv8/Pyea39uQEAAc+fOxWazMWPGDKpXr06LFi3Q6/VPLU8hxEMb0Y4dO0b58uXTHuz69etTrVo19Hp9ltaHz4wdd7/JJUnCaDSyZ88eatSowbp169LWlb+bbdu24e3tnW12AOTKlYvx48fz448/cunSJQ4dOkS/fv1o3749QUFBNG3alP379zNmzBj69OnD0KFDOXbsGIGBGa3urPAsyJQAJCcns3///vu60YoUKUL9+vX5999/n/uADr1ez40bN4iLiyMhIYHChQs/1fxcXV05ffo0a9aswWKxpG23Wq0EBASg1Wq5detWuvSurq7s2LEDPz8/SpQokS12qNXqNN87tTvQbrezdu1a4uLiiI+P58CBA2k2yrJMZGQkx48fp2nTptliw92kjkDcsGEDW7du5fr16/z4449pA5FSRfnXX39FlmXq1auX7TYoZJ5MCYDFYiE+Pj7DIbX+/v7s3Lkz2w17FHa7/b6xAP7+/qxfvz7DN1t2Nwq2aNGCOXPmsHPnznT98DabjTx58tC3b18iIiLYvHkzDRs2BCA0NJRRo0YxadKkbLOjWLFiBAQEcOjQobSahRCCgwcPEhoaikajYfny5emOMZvN5MuXj7p162abHXfj6+vLO++8w2uvvca1a9e4evUq165dw2Qy4eXlRXBwMJs3b2bq1KnodLqn2iai8HAyJQBubm4UK1aMf//9N90wVovFwpEjR6hZs+ZTM/BB+Pr6UrBgQRo1anRnqeOUoaapo+PAIRT58uWjQIEC2Zp/mzZtHrl2u8FgYM6cOSxduhSVSkVUVBQDBw7Mtrc/OO7DqFGjsu182UmuXLnIlStXhqtFd+7cGScnJyZPnsxXX31FyZLK0u3Pg0yvDnzo0CFGjx5N27ZtKV++fFo188CBA3z33XcULVr0aduajodNB76b1DdylSpV0Gg0z9RGcExaioiIwGq1UrRoUfz9/Z+5DS8yYWFhlC9f/oHzOhSyH4PBQEJCAn5+fllbHvzUqVOMGTOGhIQE7HY7BQsWpHTp0uzevZsZM2Y81UY3BQWF7OGxBSAVu91OTExM2uSaKVOmsHv3bsaOHZvtVW0FBYXs5W4BeKx6lyzL6WbWDRgwgNKlSzNixAhu3ryZbYYqKCg8XbJtNsjAgQPZsGHDc/GzFRQUHo/HcgEUFBReXp7YBVBQUHg1UARAQSEH88IEBImNjeX27dtKf7CCQhaw2WxPNLDshREAT09PZUaYgsIzRnndKijkYBQBUFDIwSgCoKCQg1EEQEEhB6MIgIJCDkYRAAWFHIwiAAoKORhFABQUcjAvzECgJyU+Pj5tvQJwhAcrU6aMstyUgsJDeCUEwGq1MmvWLMLDw9NCddtsNipUqMCgQYOes3UKCi8ur4QAJCUlcevWrbQY+Xa7HZvNxv79+2nVqlW66ME2mw1vb2++/PJLJRClQo7nlWgDkGU5bUVam82GVqulbdu26HQ6PDw88PX1Tfvkzp0bk8lEeHj48zZbQeG580rUAFLf/BaLBWdnZz744AMqVqyIq6src+bMAUi3Go8sy/etKaCgkBN5ZQTAZrPh4+PDJ598krYq0GuvvUbu3LmZNGkSNptNmWqsoHAPr1SJcHFxYfv27dy+fRuAs2fPcvjwYdzc3O5L+6B1BMwx0cSaAQRxUTEYlYBpCq8wr4wAqFQqLl26xLp169JW342MjGT16tXExMSke/vfvY59emxs+aI9322OBWKY16Ml8w4rroLCq8sr4QKAww1QqVRotVqio6PJlSsXCQkJ6HS6+972D46DqqLp9E2kLpn5wcptT9VmBYXnzSshACqVCqvVis1mw2KxMH369HTr1N8rACaT6aFLeyso5BReiVLg6upK8+bNCQkJQZbltF4BvV6f4du/ZMmS1KpV6zlZq6Dw4pCpdQGMRiOzZ8/GbDbz0UcfZZgmISGBcePG4eHhweDBg7PdUAUFhewhy+sCXLp0ifDwcHr37p1uu81mA+Dq1au4ubnRrVs39uzZk/0WKygoPBUy5QIYjUbUajVWqxWAjRs3snnzZkqUKEG1atX45ptvGDBgAEWLFk034EZBQeHFJlMCkNpgluotvPbaa+TPn58hQ4aQmJjItGnT8PPzIyIi4ulZqqCgkO080gWw2WyEhYWRP39+9Hp92vbSpUuj1WqpVasWfn5+AHh7e+Pt7c3hw4eVobYKCi8BjxSAxMRE9u3bR/78+dOt/Hv8+HHMZjOxsbFp27y8vPDy8mLHjh0YDIanY7GCgkK28UgB8PDwoE+fPoSGhmI0Gjl37hw7d+7k8OHDtG/fnj179jB+/HjAMfQ2IiKC/v374+Li8tSNf5kxRF7h8vXYRyd8EJZojl2Kzj6DFHIkmeoFSJ1jr9Vq2bBhA7t27aJt27ZUr16d+Ph4goOD09JKkpTWO/AsiY+PZ/fu3WmfPXv2EB8f/8ztyCzH/hrFN5PWPf4JboTQ7IuQhyRIYNeCFRyOsj5+HgqvPJlqBEz1581mMz169ECWZdRqNSVKlGD48OE4OzsDjhF5z2PW3csYEUitd8HVWff4J3D3wMvV9NAkoXNXkie4FUGPn4vCK06mSqqPjw9ms5lTp06h1WrTDaNNLfwAZ86cIV++fA+caZcZTp06leVj7o0IJIRAlmUOHDhAq1ataNGiRdqnefPmvPvuuw/O59xqOjeuQlBQZZq+P4loG2C/zZppQwmuXpbyVd9k9LoTgJ3VXw5j0MAhdKhfjtIVW/Hryo2M6VGfUsXL0nrEWgBCp4zi415D6d60OsUq1Oeb1Y64hXffoeiTm/miQzCBZavwzvfLuW55wIUmh/FJi4qUqtGSUePWgOzocrVGbGTQO69RoVx56rwzkutJNpaP6MD3oev54s06LDoL2M4xdXBnqlcKpFLdjiyJSMryfVZ49ciUAPj7+/Pee+9x/fr1B6ZJTk5GpVLx2WefPZFBy5cvTxfcMzNIkoQsy/d9nJyc8Pb2zjAi0KFDhzI4k4G5fcdT7edQDh8+wJASt9kcAURe4ozP62zZe5Tw/SPY+Ovf3ELG1dWI0f81Fm09wo6xVRnz7QxaztzKybPL8Vn/N1ut4OZmJUZXhtnr9xKxaiBbJv7OeUAjS0iyGohm0Z+LeG3aFo4dDaWLdj+LQ45nYJuRlR+PQNXnH07uWcnHdXyxmh1KcSr0LI3HbOTQkXAWN9zH/5adp/XXKxleryXj1u6gQ3EwnAjD1GgMew8e4+Di1/h86GKUmc4KmXIBZFl+5Nh5Z2dnGjVq9MQGmc1mpkyZwueff07BggUzdUzqWz+zqFSqB6TXU6dzBVp0aQHDvqP3pyNxdHxWZkDZZbSuW46LSRYiTlQmHrBZ81G9YjEAPPL44dOoGqU1AC4E6OzEJICfzZsKFcs4Tl+gEe+qNnEkFkqmCIA1OYL/Zi1i6vowdJKJ6AgjzUa1uN800xkWXSnJx6/lBcC5YmVUKx3+fWCHfpz8uhMVl55EGC6S3CcW8CHJZCQhzgh+OvRl29Du1LfUrfw3yTYDlsTuxAJemb5rCq8iL1w8ALVaTXR0NB9//HGWGvGexO1IQwiKdJ3IkT1zqBC/ggZVarH4Klj2TaHe9+HM2X6Egwc38lqlvFiwATZsNkchtNvsCKsdR2uJHZsAh0lS6j+AHTsiXfXfajJRuMH/2HVgHwdCwzkfc4oZ/Wtk5oJBUgFWfm/fiD21JhB2LIxDv7dCL1kAgV1Iaffl4ux3aLOnGtsPHOPAod9wd5aVGoDCiycAqW/z4ODgZ9+VKN1i/ucj2RLlRf13hzOjiZn/DiWRnBxH0VKFcQfshzdz7sJtVJm8dWp1LIcOnXB8ubWTtbIH5TzBZhcIuxWdVwk02r38sS0GgIv7trP/xO37T+QUQIf8p1iy8RoAsbv3YbPYgQSiowtRMzAPACFrTmK0yoAWN5GEWTgBcDvqNpWqlHb8v3I9iQbri/fjKzxzXrhnwGw2U6tWLfr27fsc5hXk5vWWRZj9TnXKBVVnyM0OfNnEBY96PQhOWkHpslXot/AorlZBDBZMCYkkGxx+uN2cSGRcAo4OUAsJUbEYrIDsirfpCN2aVqdc8wnU+rgbhYGkhFhi4hIAPz4e8iHHx79BYFAFPlp0CudcuTKwTUfLiV9jm9mcUjVaMHn7ZaKTTYAXA8Y34o9WZanWtAfHkp2Ji40BXHmre2FGNK/A8N1JVBk4Ec9FrSlVtRmTjiXiG59IzLO5qQovMJmaDvws+fvvv2nfvn2WjomLi2P06NFcv349U4E+DAYDLVq0oFOnTo9rZqY58PMktuuCGdgtK51xx+hXuTP/WexoJQmLSVCh+RdM/bED3k/NUoWcwt3TgV+4gCCtW7fO8jGpEYEslgf1n6XnWUYEshqSSTBldUBSIDMOZNRLoaCQvbxwAnD3fIPMcm9EoIeRGhGodu3aj2tilijXpSeFJWVYtMKLyQvnAigoKDxdshwRSEFB4dVEEQAFhRyMIgAKCjkYRQAUFHIwigAoKORg7usGtMXfxB57GcnJDXXuks/DpscmMTGRo0ePkpCQkDYG3maz4enpSfXq1Z+PUZYETl9NoGjhvC9en2uG2Ll2+Qy6XCXx1glsNlCpsmGehcILyX3PpGHrFGLnjUJXJgDf4aefh02PzcKFCwkJCUGncwTaEEKg0+lwdXXl2rVrjzXI6Im5tp0ug7ew7O9x5H8ZIqZb4xj/XUcCPwyjZ57t/DTxLN2/64Fhx3R2+3SjXWnnhxwcw/KpE9h1GSo370PHevmfmdkKj8d9LoDk5ILsBpLLyzdRNDIyEjc3N1xdXXF1dcXZ2RkPDw++/vprVq1axcqVK5+9USotHq7OqF4WZ0tW4ezigZNsB59qdP2gJT7AzT0TWXz+YQpmZtH7rdimb8h7nRtzaU43fjqkRIZ+0XlZHstMIcvyfdOCzWYzefLkYeLEiaxbt45ly5Y9/CTWE4zr25YKQaWp02UY5yzAxVVU7TuY6QPbU6ZYaRp8/CtblnxP0wqlKFy5NRtuAVzgy+p9+XbKYBqXLUaZxv05bADUjlvsMCuSzdM/oVqlQGo0as/U7Rch+Ti9OzTmn0sAVuZ+0ptPfw8H222mftiKGoGlqf3ud+xPGU0cGz6Xrk3rUyqwOh9O3OLYKC7wY8/mBFUsR7UmXVl76Z5oP3GnmD7obSoGlqVOqwGsO+wIJnpz31+0b1COSk3f5cOuPfls3FaQnZAlkDUyRCzk456TmD9yKL0m32ZL71ZMX3segMMrR9KyTnXKVH2DGesugeUkp7w+YmzPYMoF1adDfT82bA5/vB9S4ZnxSgnAvaSKwdWrVzEYDHTt2pWQkBCOHDnygCMMrPzfRHSDl3Do8Al2dE+m99RT4OGGxy0DDcb8zfGIHdQ/9D0/R77N+kMnOf6lN59N2Qa44up+C++637HpaARr2kfRa+xecNYiSRIa4MxfPzPvUin2HjzGnsW9+G/kOE5KATQJKs+pQ+eBOC5pk2n2ZnlCp/clqcUy9hw7wZbBXsz6KgQ4y2dj9/Dl+q2cPLaXRpfH8P1xMK0cwrKSIzkcdoQd31Rk67b0rtuRlYs47t6DsGNHWflpLU4fPQ0iht9//5PXJx7h4Pq5NC6iw67Xpr8daic0khetvxzD3E8L88bsEPq/XgTruRVM3OLG0h17Ob5/IZH/fMHayCC+/uFtzm2ezacD+zL2SGmmfFAxm39Rhezm5WiXekwkScJisTBmzBiEEKjValQqFQkJCRkfYI5g6anDhHaoxGxk5PjzXKnXCHDDWr46ZXQAHgS6+OBVw9FA6lwgAPOGKMCOxRJE/QoOH7lwt74UqhtK8rDKyEhoMLP7vJGgpm84AoJ4N6ZrvjGsi9DQuWpuRp08gumGJ4lnylLNTzBx6g5mO9dksWTGmBSPf7lhxJ+NZ+2uzRyoVhm7VSIm9jK1GibjVLsdziN701f7OUN7DGTMPcGbClcqz42Zw/lAb+CTDzrxYW2wx2/j1jlPWgY60pQoVZHTNzKKIGzHBCQkWTEmxAM+RIWtY+FfWzmy60/sJhNn1H5MjDJCHh25S9akXZvcrJs3jW0RVoqXeaUfsZeeV/rXkSQJIURaZCEhBCqV6sEThmwmotTBbDw4mnx3b7/wD3abDQFICKxCYLU6vmGzId3l4Kf9ZxfEC4n72s/Tpl7YMMZbsZogV4PGXF+xiw1r1hLZ/hvciAN9EPPCNpKuLB8ch3vLqYROSh96zU47Noa24/y2eYx6qzpJ7/7Ogl6BafvdyrZkyc6WXN61nM/fqYFLi8lMe8cJKQsxgYSwpdWoDDaJpt9uZHnfuxv5Ejl7Po7iRUpRLV8pqjmfocoPq3nvj1av9kP2kvNKuQAZLUcmSRIqlSqt4D80dJi+NJ39d/LlgnOO71c281doHGhU9xfk+1Cj0Rxh55FkAK4tmoehRQ30Jgt2BBa01Cys4/B/KX573M7/t3ef4VGVCR/G7zMtQwgQEwgmgJCAAtIRkaKorCBiRVyKAgpKZHHdxV125aVFEFARCwgoKlgQQpFdWFl7L+iKq7KCgIighBZKSJsk0877IYCUABNIhPD8f9eVD2ZKnmvw3Oc5Z2aew+L8VvzuAsDTkiHR3zJpzvf06VoTiKVNtwKmPv7f4vvuXsUbb2+E1lfR+L2H+Wdm8a9/ef8VvtwLPy+ZwJQ3tpLcqR/PTb+Rz1YUPy57b3H4Vi+bzdNL1lKnQw/mjOyFb/0XhKOakNSwgC/2r7/6w7pv2HmMr0jbgLdyTYL+4tc3sXkHfPMn8L0NEGLlu8vZs2c9I28YyLv7v5G9asXH1G7TSBv/Ge6sCsCprwsYza3PP825y+6kWdNmXP7HBdSsVQ0CBezO9e1f7y9E/p5d5Bbtj01RDpn7fICNy5PIL2+N5erm9bl2cRWeHt4acnLYlZWNz4bzbx3CzfH/4ZLWTWh3yyw6jfgzraoAOLiyfwo7avTl8mrFT3vNiJdpufp+WjZpSPs/zMWulQi0YubzvZh/U2subNKMMR8GqBMHyZ27k7fkxtlDYgAAE1FJREFUblo1b8qlf1nHE6N+D/nfMLTvBD7zQZO2LSh4fwQXNWvGZZM207NvL9zOGAbcfhtvDmtG66sH8HGmk2pOCwiRk72bfD/gz2ffnlwKgWZd+vHDfZcyat63RDXqz4ODY7nv4hY0bdOJ5dtjiY6/iOmPdeHJrs1p0uISHtr8O6YPbXSK/x5S3o76OnD+2w+RvWgkUY3aEj/8P6drXCfloYceYs2aNXg8nhJvD4fDOBwOUlNTadcugoU3S2Uz4654gV4fjqPxSTz6uyd7sKDFbCZeeXrW/Plp8fMsyWjA8PuuiGC2IxXZSX8dOOzLJlyQQ9h3Cte0O2uF8GXnkBvZokS/Cvp4Y8YdjPjgYu689PQt+JWTnUu+z4/euTdLRIdo/s3/IWfuHdjhUPEb2sEi3A0uJ3bAS+U9vlIJhUIEg8FjnuSzbZtQKFROly6vw7AFw6lW2gWNnB4aX3E3U3o2J6X0iyGVmYY392NIwEtF+LCilJ2IAlC0ch7+X9bhiHYfPIsdXPEy/rVv4vDGYtvh4mtd2Ta4vdQYtbo8x3xMbdq0ITMzk6ioqBJvD4fDREdHk5KSUg5/3UNiw1onvtuRLBf1mrQv++GUUqW4GvsvgiImifgkradxB2KuvA/s8MEI2OHgr29rWRbYIbLnp1K09i2iGl9dLgM+nm7dutGpU6f9wzn6SNa2bdxu90mtOyhyNorw6sABXAkX4G11ywnvm/fvNOxAwSkP7GQderFSETm+yE4C2kDoxGe37HAYOxw+5FJYInImizAA+z/1JiJnlQjfBrQj2/4tx/6TgacyJBH5rUR2EtAOHbZRl3QlAcvafz8oPlEoIme8iALgTLiA/DfGk/VcDwgfY/e+f88f2vYLroTzy3CIIlJeIgpAdMdUnN5qhApzj/t5e9u28ba8GVdi0zIboIiUn4gC4KgUS6VL7y7vsYjIb+ys+jagiJSOAiBiMAVAxGAKgIjBFAARgykAIgZTAEQMdlQA7HAQgkDQfxqGIyK/paMC4KyWhDvlAlxJ+jSfyNnuqFWBI3rQ/gtuiEjFc9KrAh/q1NfgF5HTTScBRQxW6gAcmP7btq1ZgEgFpxmAiMFKFYAjT/5pFiBSsWkGIGKwiANwrLf+NAsQqbg0AxAxWEQBONEHfzQLEKmYNAMQMdgJAxDpx341CxCpeDQDEDHYcQNQ2i/9aBYgUrFoBiBisGMG4GS/8qtZgEjFoRmAiMFKvDTYgT34oXvyE80Gjtzra9EQkTNfiQE4csONdEqvDV6kYtEhgIjBFAARgykAIgZTAEQMpgCIGEwBEDGYAiBiMAVAxGAKgIjBFAARgykAIgZTAEQMpgCIGEwBEDGYAiBiMAVAxGAlLghSEq3zJ3L2iSgAWulH5OykQwARgykAIgZTAEQMpgCIGEwBEDGYAiBiMAVAxGAKgIjBFAARgykAIgZTAEQMpgCIGEwBEDGYAiBiMAVAxGAKgIjBFAARgykAIgZTAEQMpgCIGEwBEDGYAiBiMAVAxGAKgIjBFAARgykAIgZTAEQMpgCIGEwBEDGYAiBiMAVAxGAKgIjBFAARgykAIgZTAEQMpgCIGEwBEDGYAiBiMAVAxGAKgIjBFAARgykAIgZTAEQMpgCIGEwBEDGYAiBiMAVAxGAKgIjBFAARgykAIgZTAEQMpgCIGEwBEDGYAiBiMAVAxGAKgIjBFAARgykAIgZTAEQMpgCIGEwBEDGYAiBiMAVAxGAKgIjBFAARgykAIgZTAEQMpgCIGEwBEDGYAiBiMAVAxGAKgIjBFAARgykAIgZTAEQMpgCIGEwBEDGYAiBiMAVAxGAKgIjBFAARgykAIgZTAEQMpgCIGEwBEDGYAiBiMAVAxGAKgIjBFAARgykAIgZTAEQMpgCIGEwBEDGYAiBiMAVAxGAKgIjBFAARgykAIgZTAEQMpgCIGEwBEDGYAiBiMAVAxGAKgIjBFAARgykAIgZTAEQMpgCIGEwBEDGYAiBiMAVAxGAKgIjBFAARgykAIgZTAEQMpgCIGEwBEDGYAiBiMAVAxGAKgIjBFAARgykAIgZTAEQMpgCIGEwBEDGYAiBiMAVAxGAKgIjBFAARgykAIgZTAEQMpgCIGEwBEDGYAiBiMAVAxGAKgIjBFAARgykAIgZTAEQMpgCIGEwBEDGYAiBiMAVAxGAKgIjBFAARgykAIgZTAEQMpgCIGEwBEDGYAiBiMAVAxGAKgIjBSh2ANWvW8Pnnnx/8b9u2ee2118jKyirTgYlI+StVADIzMxk3bhy7du06+DvLsvjhhx+YMGECBQUFZT5AESk/EQdg9erV3HvvvaSmpnLDDTccdttf//pX4uPjGTFiBDt37izzQYpI+YgoABs3buThhx/mlltu4aqrrirxPiNHjqR27dqkpaURDofLdJAiUj4iCkBsbCxxcXGsW7fumPcJBoNkZGSQmJiIw6FziyIVQURbanx8PFOmTMHn8zFu3Lij9vBFRUUMHDiQRo0akZaWVi4DFZGyF/Gu2uPx8MADD7B3717S09MPu23ixIm0bduW1NTUMh+giJQfy7ZtuzQPyMrKwufzUatWrYO/27BhA8nJybhcrjIfoIiUrYKCAnJzc0lISCh9AESkYjs0ADpbJ2IwBUDEYAqAiMEUABGDKQAiBlMARAymAIgYTAEQMZgCIGIwBUDEYAqAiMEUABGDKQAiBlMARAymAIgYLKIVPPx+PxkZGViWdcL72rZNSkrKKQ9MRMpfRAEYNmwY+/bti3i1306dOjF06NBTGpiIlL8TBmDfvn3k5+czZ84cvF7vCZ9w27ZtjB07lsLCwojuLyKnzwkD4HA4sCyL/Px8MjIyyM7OPmrZ72AwSFRUFAkJCfh8Plwul5YGF6kAIjoEsCwLt9tNeno669evP2zxz1AoRN26dYmLiyMpKYl27dpFdK5ARE6/iAJg2zZ+v58xY8Yc8z6hUAin08mGDRvQOqMiFUOpZgDTpk3jp59+wul0HrzNtm1q1aqF2+0mJSWFJk2aaAYgUkFEvJB/IBDg+uuvJzc397AN3LZtYmJicDqdeL1ecnNzy2WgIlL2IgpAKBTC5/NRt27dEt8KtG0b27ZxuVzs2LFDhwAiFcQJA1C1alUCgQBTpkzB4/Ecd+O2LIvc3FzOPfdcPB5PmQ5URMpeRFcG2rp1K4WFhRE/aXx8PLGxsac0MBEpH4deGSiiQ4BDrwMoImcPfVpHxGAKgIjBFAARgykAIgZTAEQMpgCIGEwBEDGYAiBiMAVAxGAKgIjBFAARgykAIgZTAEQMpgCIGCziJcHy8vIiWuo7EAgQHR2N2+0+pYGJSPmLKAAzZ85k586dhy0Geix5eXk0btyYgQMHnvLgRKR8RRSA5cuXExcXF9Fqv6FQiPz8fG688Ubi4uJOeYAiUn4iCoDH4zk4pT9RBBwOB06nk2AweOqjE5FyFfE5ANu2D27UkSz4qWsDiJz5InoX4MCS3/fffz8pKSnk5eVp6W+Rs0Cp3gb0+/2MHz+eDh06EA6HFQGRCi6iAFiWRWFhIY899hgAvXv3JiYmhqKiIrKzsw/+5OTk6NhfpAKJ+OKgXq+XIUOGALBw4UKysrJo164dqamp+Hy+g8f8kydPJicnp/xGLCJlJuIAWJZFVFQUaWlprF27Fq/Xy5YtW1i4cOHBvb5lWWRlZeFyuU7i8CCPOR2vZORuH0mxCbTofjtPpd1BjG8Nd/3tE8bPGELSkQ8pWE6f1Dzmz+1z3KmMz+fj9ddfj+hzDCfDtm0qVapETEyMDovKiGVZ7Nu3jy5duuD1eg+/MfAjkwYPYu6XuTS/7u8880hfvJtWMH70aF5btZemvUfw+Kg+JB3yzx38YBTu3y+iVW0HhYG+fLbmAXLXfMSbL8ziX5UHs3zclUeMwMcrY4bwzL9Wss97AfdNeIw7uzTA99pgKvd7j9bJ0djxLfn71Dn0aXrqV8H6avF0Poi+maHWaO4LP8Oz1x39nN+88QQf7b6GYf0b/frL3CX0HeYiffaNJ/V3IwpAMBjE5/MxceJELMs6+A+ybds2fv7554P3sywLh8NBXFwc0dHRpRyKTchqw6L1T9MJWP9Mf+6e0Yl59yST2teiJkDuZubPeYE1/tr0GzyYxlUrUa1aGAew/tWX2H5JX66oc/QLd+BtyT179pRLBPx+P61ataJ9+/Zl/twm++6770oM6ob5D7Lpd7NY+2Jj3hkxmrfX7eGizO20vfcfPNQ+lqVPD2P2e50Y0/XXXcaWrd8z+7sNDErc/4u87fxvJ1zW+ULmfnn0p1Y3pd/BG1XH8umqpsAuZt0/mS/bP0ozVyW6zP4fb98SA763GHTtK1z3wSBiDj4yi7efn8U7GdH0uCOVDvW2snxhkGt6N8QZ/InlC31cd1sy786ezltbvNx0+510TI6hfsfOVLUTcX5fhapW8f+j2f9dyqT0ldS/qjep3ZoTHVOV8OrPmfHIK3BhL/5wfXMcTi+xVQ9sxj8zfdRT5Da8jmEDrqBSBK9xROcABg8eTI0aNUhKSiIxMZHq1atTvXp1atasSe3atQ/+1KpVi+rVq9OjRw9iYmJO/MRHCZCz/+LCDYekUX32bPayh0WvfEiIIubOW0Rmche6p+Qw9/GnKfBHE1WpCux6m8dX7qRhjWOX2LIsnE5nuf1oz1/2QqFQib+vkZhEVnY+AHupTFWPiwaX96RH++LL0e3btYs6CfGHPWbP1v8xtV9PWrXuzstriyAmkcs7X07jOpUJhY684G0Bnywq4rahTQ/8Re5+5FHaxkDw0LtuWU9my5RDNv4i3h/3BJ+GL6Z320osWvg8ewOVWL10GhkAqxfw7J4CvnziST4OtqbPJTEsTn+W3SHYuuYD3vsiA8vlxOFywqZ59H/5J24feA1Z81/l9Q1+ovO389XXv9Cy263kvjOBR9/JAq8LLBeQx8y+TxLb8y4a73qVqUtWRfQaRzQD6NGjBz169IjoCctOJc7x5ZCDC2+UBwsHsaEgGdv3EdelLxN6JuHgEwo3v8OwZysxdPgYEr0nflap+GK7/pmur/akQYN82vcezYz61QDIXTGB7n98kQYDXmBay6jDHlO/33t88rd6VHV8zW0dR3LpZ4+RAhAqKdw+sn6uSf3KwKaldB+QxoqsyoxfsII/VanEp3e1ps2kKHz5jZn6/p8OeVwUndNG02TTJrK3F7A9kMHewiQuu8HLR2uLSE7/invGjaSttyV1N20ke4efTLuI3fngdnvwuIv3/OFgCJJvY+kDW1mzLZOUlADbsvdyYbU6dOl9OR1b1OPCQQN44R/vE77iHFweD2xaTHqdusyt4sLRohF3vrqKET1bnPC1PIO/DZjJxpp1OZcQYTtMIW6uv2ck15y3gxdnPMTUee+C7SXs99OoRjzfb9p0ugcsv5EVaY/jG/gvfvzxW0bU/pCXPt8KRblEdxjNJ1//yK3u5cya/8MhjwjgjK5NVQdAawa1XM/qPcf7C/E06vQjmzOB5Jt4/ZNVzBt2EaEghIuKuPSpr/nq6+/4fv1k3vnjAL4/OCso4vN5s5n63DwWLFnGD5t34HRD3fM7E/3pVObk3cHVXvgyvfg+6a8uY92mHXiO2A07XE7I+DcPPDGVpUsW8483N1BQ5MZh2djh4vNttsNJlNfCBiws/P4CorZ+TXr6Kzz78W7+1iE5otfyDAqATThgEVOl+L+WDR3MOcPvxUsB/hBYgUyemTkJb9e7eOTh/mR/+0925Ybx1L2aIald+W78S/x4nGcPBoP4/f5y+9EhQNmzLKuE19XGV7CFHbsKAMjduQtfgc2Xr05lytLi81F5ebvxRx96XB9i+V9u5w0fwNfM/qYhTQ8cIYRDBI46BIDOfTvw9KCZ5O9//JpV66jshlAoSODArCHwC7u3VsV9YCsK7WTZim10HzWesZOHUK9KEUUBqF0/hXXvLiB8ZStgB8tWbOXqEQ+S9uhQkqv4CYbBDocIhYo3cNsJO1csZc8F/RkzdhK9WiRBEJxZW/j0/S8AWPX+fDbWaIjTGaCwsAhPw7ack12Tu8c+wITxqTS64LyIXuOIPwpc/qJo0Mnmz00aYcfXp9+YZUzrEgW4Oa9udVzuBG6/oiV/6t6KlXZzpjz3EjWqrqR2LTfQgEkPV+fGp1ay7N6LS3z2lJQUoqKiSrytLAQCAT7++ONye34T2bZdwtfKLa6a/DKFD/ahwfDNXHrPY7zYuTYE/8D6/xtEkxGbuDZtAZNvSoaNi7jz0RimPdOdW2eN5p5rG3NfTlPGp88rnv4DVE6kWZ2qR/1t9yUTWDpqBv06XsiaQD3GTF9G/ybgzz+ffcPb0fzBMFG1OzProxmcf+BBzvN4+P6O9OnWkqca/p56TZvhKwhAQh1aXPZ/dL/kHCCGiX+/jFuvb8H0Br1IbtECX1GIuGo1SXC4sSrXo5YNNXtNo9OIPjTrHMNtXRNJ8Pjw1GxJ84T/cmPHpni6TWLusCZQuJfkOi6gDYvnFdGrdQPWVL+amS9Mieg1tmztukSMUlBQQG5uLgkJCWfSIYCI/NYUABGDKQAiBlMARAx04Ls7Lp/Pd5qHIiK/lQPf7PX7/RQWFvL//eJ50Kz2kX4AAAAASUVORK5CYII=)\n",
        "</div>"
      ],
      "metadata": {
        "id": "x3TRY_tTfwe8"
      }
    },
    {
      "cell_type": "code",
      "source": [
        "!wget -O employees.sqlite3 \"https://drive.google.com/uc?export=download&id=1ThJIPMRMlXOedWG2JIse0fod1wxc6XGu\""
      ],
      "metadata": {
        "id": "vpEkR_mXeFen"
      },
      "execution_count": null,
      "outputs": []
    },
    {
      "cell_type": "markdown",
      "source": [
        "<div dir=rtl align=right>\n",
        "\n",
        " ולבסוף הריצו את הפקודה הבאה:\n",
        "\n",
        "`sql sqlite:///employees.sqlite3 %`\n",
        "\n",
        "\n",
        "לאחר הרצת הפקודה נוצר חיבור לקובץ מסד הנתונים employees.sqlite3 של SQLite.\n",
        "\n",
        "</div>"
      ],
      "metadata": {
        "id": "6e1_TZ6YfeMP"
      }
    },
    {
      "cell_type": "code",
      "source": [
        "%sql sqlite:///employees.sqlite3"
      ],
      "metadata": {
        "id": "ie8nuv009BE7"
      },
      "execution_count": null,
      "outputs": []
    },
    {
      "cell_type": "markdown",
      "source": [
        "<div dir=rtl align=right>\n",
        "\n",
        "סיימנו את שלב טעינת הנתונים למאגר!\n",
        "כעת כל שאילתה שנעשה תרוץ מול הדאטה בייס (DB) של העובדים - employees.sqlite3 שהגדרנו!\n"
      ],
      "metadata": {
        "id": "fC8X0ShVWhdO"
      }
    },
    {
      "cell_type": "markdown",
      "source": [
        "<div dir=\"rtl\">\n",
        "\n",
        "# <div dir=\"rtl\"><font color='BLUE'><b>דוגמא</b></font></div>\n",
        "\n",
        " שאילתה שמחזירה את כל המידע מטבלת employees"
      ],
      "metadata": {
        "id": "ulM5Tr_eXQ3J"
      }
    },
    {
      "cell_type": "code",
      "source": [
        "%%sql\n",
        "SELECT *\n",
        "FROM employees"
      ],
      "metadata": {
        "id": "dVaFAwAiXQ3K"
      },
      "execution_count": null,
      "outputs": []
    },
    {
      "cell_type": "markdown",
      "source": [
        "<div dir=\"rtl\">\n",
        "\n",
        "## <div dir=\"rtl\"><font color='BLUE'><b>שאלה 1 -</b></font></div>\n",
        "\n",
        "הציגו את כל השורות של הטבלה employees, כך שיופיעו רק השמות הפרטיים ושמות המשפחה של העובדות והעובדים."
      ],
      "metadata": {
        "id": "0Z49nCkryxwi"
      }
    },
    {
      "cell_type": "code",
      "source": [
        "%%sql\n",
        "#  .. כתוב/י כאן את השאילתה"
      ],
      "metadata": {
        "id": "f9wd6OQg80jJ"
      },
      "execution_count": null,
      "outputs": []
    },
    {
      "cell_type": "markdown",
      "source": [
        "<div dir=\"rtl\">\n",
        "\n",
        "## <div dir=\"rtl\"><font color='BLUE'><b>שאלה 2 -</b></font></div>\n",
        "\n",
        "הציגו את כל העובדות והעובדים שהתקבלו לעבודה לאחר 1 באוגוסט 1999 (לא-כולל)."
      ],
      "metadata": {
        "id": "5AmVpfhaZR8L"
      }
    },
    {
      "cell_type": "markdown",
      "source": [],
      "metadata": {
        "id": "APD3Be_WD4Nv"
      }
    },
    {
      "cell_type": "code",
      "source": [
        "%%sql\n",
        "#  .. כתוב/י כאן את השאילתה"
      ],
      "metadata": {
        "id": "zHPN3zKjZR8L"
      },
      "execution_count": null,
      "outputs": []
    },
    {
      "cell_type": "markdown",
      "source": [
        "<div dir=\"rtl\">\n",
        "\n",
        "## <div dir=\"rtl\"><font color='BLUE'><b>שאלה 3 -</b></font></div>\n",
        "\n",
        "במסד נתונים זה, שתי טבלאות הן מאותה סכמה. שלבו אותן באמצעות אופרטור איחוד (Union).\n"
      ],
      "metadata": {
        "id": "cRnWh7iZZSMn"
      }
    },
    {
      "cell_type": "code",
      "source": [
        "%%sql\n",
        "#  .. כתוב/י כאן את השאילתה"
      ],
      "metadata": {
        "id": "ZOShEYr5ZSMo"
      },
      "execution_count": null,
      "outputs": []
    },
    {
      "cell_type": "markdown",
      "source": [
        "<div dir=\"rtl\">\n",
        "\n",
        "## <div dir=\"rtl\"><font color='BLUE'><b>שאלה 4 -</b></font></div>\n",
        "\n",
        "הציגו את המזהה (identifier) ואת המשכורות השונות של העובד או העובדת שנולדו בתאריך זה:  '1964-01-31', על ידי צירוף (join).\n"
      ],
      "metadata": {
        "id": "4tTopD1TZSU0"
      }
    },
    {
      "cell_type": "code",
      "source": [
        "%%sql\n",
        "#  .. כתוב/י כאן את השאילתה"
      ],
      "metadata": {
        "id": "MezyVuUgZSU1"
      },
      "execution_count": null,
      "outputs": []
    },
    {
      "cell_type": "markdown",
      "source": [
        "<div dir=\"rtl\">\n",
        "\n",
        "## <div dir=\"rtl\"><font color='BLUE'><b>שאלה 5 -</b></font></div>\n",
        "\n",
        "באמצעות האופרטור join, הפיקו טבלה המציינת את שמות המחלקות שבהן עבדו העובד או העובדת המשויכים למזהה 499902 (הטבלה חייבת להכיל גם את תאריכי ההתחלה והסיום של ההעסקה בכל מחלקה, וכן שם המשפחה והשם הפרטי של העובד/ת).\n"
      ],
      "metadata": {
        "id": "vVL21hCQZSfL"
      }
    },
    {
      "cell_type": "code",
      "source": [
        "%%sql\n",
        "#  .. כתוב/י כאן את השאילתה"
      ],
      "metadata": {
        "id": "4V98oSYWZSfM"
      },
      "execution_count": null,
      "outputs": []
    },
    {
      "cell_type": "markdown",
      "source": [
        "<div dir=\"rtl\">\n",
        "\n",
        "## <div dir=\"rtl\"><font color='BLUE'><b>שאלה 6 -</b></font></div>\n",
        "\n",
        "על ידי קיבוץ (אגרגציה), גלו כמה אנשים נושאים את שם המשפחה \"Gewali\" (שם המשפחה נתון בעמודה last_name של הטבלה \"employees\").\n"
      ],
      "metadata": {
        "id": "s1oolX4aa3jI"
      }
    },
    {
      "cell_type": "code",
      "source": [
        "%%sql\n",
        "#  .. כתוב/י כאן את השאילתה"
      ],
      "metadata": {
        "id": "AvPZeSH2a3jS"
      },
      "execution_count": null,
      "outputs": []
    }
  ]
}