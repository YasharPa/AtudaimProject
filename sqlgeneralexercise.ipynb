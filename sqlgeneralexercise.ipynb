{
  "nbformat": 4,
  "nbformat_minor": 0,
  "metadata": {
    "colab": {
      "provenance": [],
      "collapsed_sections": [
        "FpqfU2kSPnqm"
      ],
      "include_colab_link": true
    },
    "kernelspec": {
      "name": "python3",
      "display_name": "Python 3"
    },
    "language_info": {
      "name": "python"
    }
  },
  "cells": [
    {
      "cell_type": "markdown",
      "metadata": {
        "id": "view-in-github",
        "colab_type": "text"
      },
      "source": [
        "<a href=\"https://colab.research.google.com/github/YasharPa/AtudaimProject/blob/main/sqlgeneralexercise.ipynb\" target=\"_parent\"><img src=\"https://colab.research.google.com/assets/colab-badge.svg\" alt=\"Open In Colab\"/></a>"
      ]
    },
    {
      "cell_type": "markdown",
      "source": [
        "<div dir=rtl align=center>\n",
        "\n",
        "# <div dir=\"rtl\"><font color='BLUE'><b>סביבת עבודה להרצת שאילתות SQL\n",
        "</b></font>\n",
        "</div>"
      ],
      "metadata": {
        "id": "R11N-t4JnS-M"
      }
    },
    {
      "cell_type": "markdown",
      "source": [
        "<div dir=\"rtl\" align=\"center\">\n",
        "<b><font color=\"Grey\">\n",
        "<font color='#141C3A'>\n",
        " כתיבת פקודות SQL:\n",
        "</div>"
      ],
      "metadata": {
        "id": "Qxntv0sAVOgh"
      }
    },
    {
      "cell_type": "markdown",
      "source": [
        "<div dir=\"rtl\">\n",
        "<font color=\"Grey\">\n",
        "מומלץ לשמור עותק של סביבת הקולאב במחשב שלכם, מכיוון שהזיכרון של הקונסולה האינטראקטיבית מתאפס כשמרעננים את עמוד האינטרנט בדפדפן.\n",
        "<br>\n",
        "בהצלחה!\n",
        "</font>\n",
        "</div>\n",
        "<hr>"
      ],
      "metadata": {
        "id": "sXmUbNeOVWqK"
      }
    },
    {
      "cell_type": "markdown",
      "source": [
        "<div dir=rtl align=right>\n",
        "\n",
        "## <div dir=\"rtl\"><font color='BLUE'><b>חשוב להדגיש</b></font></div>\n",
        "בעולם האמיתי, מידע של ארגונים מאוחסן במערכות RDBMS המוקמות על שרת מרוחק,\n",
        "ועל מנת להריץ שאילתות SQL נצטרך להתחבר אל המערכת היושבת בשרת המרוחק.\n",
        "\n",
        "למטרות למידה ותרגול, נשתמש בפתרון קל יותר, בעזרת SQLite - database נוכל להקים מסד נתונים מקומי בצורה מהירה ונוחה,\n",
        "ולהריץ שאילתות SQL עליו באופן שדומה לעבודה עם מערכת RDBMS מלאה.\n",
        "\n",
        "אנחנו נבחר להשתמש בספרייה בשם ipython-sql.\n",
        "Ipython-sql הוא הרחבה ל-IPython,  הוא מספק דרך נוחה להתחבר למסדי נתונים שונים של SQL ולבצע פקודות SQL ישירות מהמחברת שלנו (ללא שימוש בAPI שעוטף את הבקשות).\n",
        "לאחר שטוענים את התוסף באמצעות הפקודה ```load_ext sql%```, ניתן להריץ שאילתות SQL ישירות מתוך סביבת העבודה.\n",
        "\n",
        "2 יתרונות נוספים לשימוש בתוסף, התוסף מאפשר הדגשת תחביר והשלמת קוד SQL באופן אוטומטי.\n",
        "דבר שהופך את חווית הכתיבה לנוחה וידידותית יותר.\n",
        "\n",
        "</div>"
      ],
      "metadata": {
        "id": "FMUcLOGU0TH8"
      }
    },
    {
      "cell_type": "markdown",
      "source": [
        "<div dir=rtl align=right>\n",
        "\n",
        "## <div dir=\"rtl\"><font color='BLUE'><b>לפני הרצת שאילתות</b></font></div>\n",
        "\n",
        "\n",
        "פשוט הריצו את הקטע הבא:\n",
        "הכולל את התקנת הספרייה וטעינת התוסף sql\n",
        "</div>"
      ],
      "metadata": {
        "id": "d0PeLlxsxQ2m"
      }
    },
    {
      "cell_type": "markdown",
      "source": [
        "## Installation - התקנת הספריות:"
      ],
      "metadata": {
        "id": "FpqfU2kSPnqm"
      }
    },
    {
      "cell_type": "code",
      "source": [
        "!pip install sqlalchemy==1.4\n",
        "!pip install ipython-sql\n",
        "# load sql extention in order to use it above.\n",
        "%load_ext sql\n",
        "# change the design of the table result\n",
        "%config SqlMagic.autopandas = True"
      ],
      "metadata": {
        "id": "jQ1zWKyyMN9o"
      },
      "execution_count": null,
      "outputs": []
    },
    {
      "cell_type": "markdown",
      "source": [
        "<div dir=rtl align=right>\n",
        "\n",
        "## <div dir=\"rtl\"><font color='BLUE'><b>טעינת הדאטה</b></font></div>\n",
        "\n",
        "</div>\n"
      ],
      "metadata": {
        "id": "xmxuZC_r2sm0"
      }
    },
    {
      "cell_type": "markdown",
      "source": [
        "<div dir=rtl align=right>\n",
        "\n",
        "הריצו את הפקודה הבאה:\n",
        "\n",
        "``` \"wget -O panamapapers.sqlite3 \"https://drive.google.com/uc?export=download&id=1TSRXQv01VS_H7CKtn_bJRv5lC_DZwNHo! ```\n",
        "\n",
        "הפקודה תבצע הורדה של קובץ ה-DB של panamapapers.sqlite3 ישירות ל-files שלכם."
      ],
      "metadata": {
        "id": "wcM540wxdTNb"
      }
    },
    {
      "cell_type": "markdown",
      "source": [
        "<div dir=rtl align=center>\n",
        "\n",
        "![image.png](data:image/png;base64,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)\n",
        "\n",
        "</div>"
      ],
      "metadata": {
        "id": "x3TRY_tTfwe8"
      }
    },
    {
      "cell_type": "code",
      "source": [
        "!wget -O panamapapers.sqlite3 \"https://drive.google.com/uc?export=download&id=1TSRXQv01VS_H7CKtn_bJRv5lC_DZwNHo\""
      ],
      "metadata": {
        "id": "vpEkR_mXeFen"
      },
      "execution_count": null,
      "outputs": []
    },
    {
      "cell_type": "markdown",
      "source": [
        "<div dir=rtl align=right>\n",
        "\n",
        " ולבסוף הריצו את הפקודה הבאה:\n",
        "\n",
        "`sql sqlite:///panamapapers.sqlite3 %`\n",
        "\n",
        "\n",
        "לאחר הרצת הפקודה נוצר חיבור לקובץ מסד הנתונים panamapapers.sqlite3 של SQLite.\n",
        "\n",
        "</div>"
      ],
      "metadata": {
        "id": "6e1_TZ6YfeMP"
      }
    },
    {
      "cell_type": "code",
      "source": [
        "%sql sqlite:///panamapapers.sqlite3"
      ],
      "metadata": {
        "id": "ie8nuv009BE7"
      },
      "execution_count": null,
      "outputs": []
    },
    {
      "cell_type": "markdown",
      "source": [
        "<div dir=rtl align=right>\n",
        "\n",
        "סיימנו את שלב טעינת הנתונים למאגר!\n",
        "כעת כל שאילתה שנעשה תרוץ מול הדאטה בייס panamapapers.sqlite3 שהגדרנו!\n"
      ],
      "metadata": {
        "id": "fC8X0ShVWhdO"
      }
    },
    {
      "cell_type": "markdown",
      "source": [
        "<div dir=\"rtl\">\n",
        "\n",
        "## <div dir=\"rtl\"><font color='BLUE'><b>דוגמא</b></font></div>\n",
        "\n",
        " שאילתה שמחזירה את כל המידע מטבלת entity"
      ],
      "metadata": {
        "id": "ulM5Tr_eXQ3J"
      }
    },
    {
      "cell_type": "code",
      "source": [
        "%%sql\n",
        "SELECT *\n",
        "FROM entity"
      ],
      "metadata": {
        "id": "dVaFAwAiXQ3K"
      },
      "execution_count": null,
      "outputs": []
    },
    {
      "cell_type": "markdown",
      "source": [
        "<div dir=\"rtl\">\n",
        "\n",
        "## <div dir=\"rtl\"><font color='BLUE'><b>התנסו בעצמכם ...</b></font></div>\n"
      ],
      "metadata": {
        "id": "0Z49nCkryxwi"
      }
    },
    {
      "cell_type": "code",
      "source": [
        "%%sql\n",
        "#  .. כתוב/י כאן את השאילתה"
      ],
      "metadata": {
        "id": "f9wd6OQg80jJ"
      },
      "execution_count": null,
      "outputs": []
    }
  ]
}